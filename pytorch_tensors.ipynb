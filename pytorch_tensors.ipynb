{
  "nbformat": 4,
  "nbformat_minor": 0,
  "metadata": {
    "colab": {
      "name": "pytorch-tensors.ipynb",
      "provenance": [],
      "collapsed_sections": []
    },
    "kernelspec": {
      "name": "python3",
      "display_name": "Python 3"
    }
  },
  "cells": [
    {
      "cell_type": "code",
      "metadata": {
        "id": "mqWu3GOe90Bo",
        "colab_type": "code",
        "colab": {}
      },
      "source": [
        "import torch"
      ],
      "execution_count": null,
      "outputs": []
    },
    {
      "cell_type": "code",
      "metadata": {
        "id": "d840iwhZ93iA",
        "colab_type": "code",
        "colab": {
          "base_uri": "https://localhost:8080/",
          "height": 34
        },
        "outputId": "2c5015db-dff0-4784-e7d3-deb38e7b4f31"
      },
      "source": [
        "print(\"hello\")"
      ],
      "execution_count": null,
      "outputs": [
        {
          "output_type": "stream",
          "text": [
            "hello\n"
          ],
          "name": "stdout"
        }
      ]
    },
    {
      "cell_type": "code",
      "metadata": {
        "id": "OiUE_zOj-OI6",
        "colab_type": "code",
        "colab": {
          "base_uri": "https://localhost:8080/",
          "height": 204
        },
        "outputId": "a9f0cf3d-4a8d-43f2-dee4-56006045a0c2"
      },
      "source": [
        "tensA = torch.IntTensor(2, 3, 4)\n",
        "print(f\"Size:-> {tensA.size()}\\n\\nTensor:-> {tensA} \\n\\nDim:-> {tensA.ndim}\")"
      ],
      "execution_count": null,
      "outputs": [
        {
          "output_type": "stream",
          "text": [
            "Size:-> torch.Size([2, 3, 4])\n",
            "\n",
            "Tensor:-> tensor([[[88331392,        0,       50,       48],\n",
            "         [      45,       48,       55,       45],\n",
            "         [      49,       55,       84,       48]],\n",
            "\n",
            "        [[      48,       58,       48,       56],\n",
            "         [      58,       51,       54,       46],\n",
            "         [      48,       57,       54,       50]]], dtype=torch.int32) \n",
            "\n",
            "Dim:-> 3\n"
          ],
          "name": "stdout"
        }
      ]
    },
    {
      "cell_type": "markdown",
      "metadata": {
        "id": "dFhIncPA-Txs",
        "colab_type": "text"
      },
      "source": [
        ""
      ]
    },
    {
      "cell_type": "markdown",
      "metadata": {
        "id": "G2MIui9x-UFb",
        "colab_type": "text"
      },
      "source": [
        ""
      ]
    },
    {
      "cell_type": "code",
      "metadata": {
        "id": "AVxL8jSr-Uug",
        "colab_type": "code",
        "colab": {
          "base_uri": "https://localhost:8080/",
          "height": 255
        },
        "outputId": "8420f17d-612f-4c19-a235-36504032e765"
      },
      "source": [
        "tensB=torch.FloatTensor(5,9)\n",
        "print(f\"Size:-> {tensB.size()}\\n\\nTensor:-> {tensB} \\n\\nDim:-> {tensB.ndim}\")"
      ],
      "execution_count": null,
      "outputs": [
        {
          "output_type": "stream",
          "text": [
            "Size:-> torch.Size([5, 9])\n",
            "\n",
            "Tensor:-> tensor([[ 0.0000e+00,  0.0000e+00,  2.1935e-40,  0.0000e+00,  1.8367e-40,\n",
            "          3.6734e-40,  6.1530e-39,  1.2268e-26,  2.6585e+36],\n",
            "        [ 9.4753e+21,  2.6886e+36, -3.8060e-37,  9.4450e+21,  2.8494e-14,\n",
            "         -7.4990e+28,  2.8422e-14,  1.6663e-38,  5.1252e-36],\n",
            "        [ 1.1578e+27,  1.0151e+09,  2.5353e+30,  2.4943e-43,  1.2715e-41,\n",
            "          3.2551e-39,  5.2475e-17,  2.5353e+30,  3.3631e-43],\n",
            "        [ 1.7867e-42,  8.7861e-43,  2.3981e+21,  1.4013e-45,  0.0000e+00,\n",
            "          1.4013e-45,  2.8026e-45,  9.3887e-44,  3.7485e-42],\n",
            "        [ 3.8832e+25, -3.8024e-37,  2.8494e-14,  2.3468e+24,  1.1192e+27,\n",
            "          1.0986e+27,  5.1945e-11,  1.1459e+30,  7.8662e+34]]) \n",
            "\n",
            "Dim:-> 2\n"
          ],
          "name": "stdout"
        }
      ]
    },
    {
      "cell_type": "code",
      "metadata": {
        "id": "x8P5BsJ8G-Hl",
        "colab_type": "code",
        "colab": {
          "base_uri": "https://localhost:8080/",
          "height": 119
        },
        "outputId": "26e6a539-9444-4327-d2eb-13ad2726a476"
      },
      "source": [
        "tensC=torch.FloatTensor(12,)\n",
        "print(f\"Size:-> {tensC.size()}\\n\\nTensor:-> {tensC} \\n\\nDim:-> {tensC.ndim}\")"
      ],
      "execution_count": null,
      "outputs": [
        {
          "output_type": "stream",
          "text": [
            "Size:-> torch.Size([12])\n",
            "\n",
            "Tensor:-> tensor([6.1086e-37, 0.0000e+00, 6.3058e-44, 0.0000e+00, 1.4013e-45, 0.0000e+00,\n",
            "        2.3694e-38, 2.3694e-38, 2.3694e-38, 2.3694e-38, 2.3694e-38, 7.5338e+28]) \n",
            "\n",
            "Dim:-> 1\n"
          ],
          "name": "stdout"
        }
      ]
    },
    {
      "cell_type": "code",
      "metadata": {
        "id": "9-mVLY8LHKbS",
        "colab_type": "code",
        "colab": {
          "base_uri": "https://localhost:8080/",
          "height": 272
        },
        "outputId": "7443627f-4b61-427c-b068-706210da1cfd"
      },
      "source": [
        "tensD=tensB.reshape(3,3,5)\n",
        "print(f\"Size:-> {tensD.size()}\\n\\nTensor:-> {tensD} \\n\\nDim:-> {tensD.ndim}\")"
      ],
      "execution_count": null,
      "outputs": [
        {
          "output_type": "stream",
          "text": [
            "Size:-> torch.Size([3, 3, 5])\n",
            "\n",
            "Tensor:-> tensor([[[ 0.0000e+00,  0.0000e+00,  2.1935e-40,  0.0000e+00,  1.8367e-40],\n",
            "         [ 3.6734e-40,  6.1530e-39,  1.2268e-26,  2.6585e+36,  9.4753e+21],\n",
            "         [ 2.6886e+36, -3.8060e-37,  9.4450e+21,  2.8494e-14, -7.4990e+28]],\n",
            "\n",
            "        [[ 2.8422e-14,  1.6663e-38,  5.1252e-36,  1.1578e+27,  1.0151e+09],\n",
            "         [ 2.5353e+30,  2.4943e-43,  1.2715e-41,  3.2551e-39,  5.2475e-17],\n",
            "         [ 2.5353e+30,  3.3631e-43,  1.7867e-42,  8.7861e-43,  2.3981e+21]],\n",
            "\n",
            "        [[ 1.4013e-45,  0.0000e+00,  1.4013e-45,  2.8026e-45,  9.3887e-44],\n",
            "         [ 3.7485e-42,  3.8832e+25, -3.8024e-37,  2.8494e-14,  2.3468e+24],\n",
            "         [ 1.1192e+27,  1.0986e+27,  5.1945e-11,  1.1459e+30,  7.8662e+34]]]) \n",
            "\n",
            "Dim:-> 3\n"
          ],
          "name": "stdout"
        }
      ]
    },
    {
      "cell_type": "code",
      "metadata": {
        "id": "cRo6rasSHjvb",
        "colab_type": "code",
        "colab": {
          "base_uri": "https://localhost:8080/",
          "height": 68
        },
        "outputId": "87ba0816-8866-485f-cd02-5fb1e1770697"
      },
      "source": [
        "tensD[0:3,0:3,0]"
      ],
      "execution_count": null,
      "outputs": [
        {
          "output_type": "execute_result",
          "data": {
            "text/plain": [
              "tensor([[0.0000e+00, 3.6734e-40, 2.6886e+36],\n",
              "        [2.8422e-14, 2.5353e+30, 2.5353e+30],\n",
              "        [1.4013e-45, 3.7485e-42, 1.1192e+27]])"
            ]
          },
          "metadata": {
            "tags": []
          },
          "execution_count": 30
        }
      ]
    },
    {
      "cell_type": "code",
      "metadata": {
        "id": "MbjFTQl_INXj",
        "colab_type": "code",
        "colab": {}
      },
      "source": [
        ""
      ],
      "execution_count": null,
      "outputs": []
    }
  ]
}